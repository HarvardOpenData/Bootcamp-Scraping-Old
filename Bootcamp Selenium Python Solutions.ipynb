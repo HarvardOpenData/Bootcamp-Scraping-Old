{
 "cells": [
  {
   "cell_type": "code",
   "execution_count": 1,
   "metadata": {
    "collapsed": true
   },
   "outputs": [],
   "source": [
    "import selenium\n",
    "from selenium import webdriver\n",
    "from selenium.webdriver.common.keys import Keys\n",
    "from selenium.webdriver.common.by import By\n",
    "from selenium.webdriver.support.ui import WebDriverWait\n",
    "from selenium.webdriver.support import expected_conditions"
   ]
  },
  {
   "cell_type": "code",
   "execution_count": 2,
   "metadata": {
    "collapsed": true
   },
   "outputs": [],
   "source": [
    "def wait_until_present(driver, time, *locator):\n",
    "    return WebDriverWait(driver, time).until(expected_conditions.presence_of_element_located(locator))\n",
    "\n",
    "def find_element_by_text(driver, text):\n",
    "    return driver.find_element_by_xpath(\"//*[contains(text(), '{}')]\".format(text))"
   ]
  },
  {
   "cell_type": "code",
   "execution_count": 3,
   "metadata": {
    "collapsed": true
   },
   "outputs": [],
   "source": [
    "driver = webdriver.Chrome()"
   ]
  },
  {
   "cell_type": "code",
   "execution_count": 4,
   "metadata": {
    "collapsed": true
   },
   "outputs": [],
   "source": [
    "driver.get(\"http://google.com\")"
   ]
  },
  {
   "cell_type": "code",
   "execution_count": 5,
   "metadata": {
    "collapsed": true
   },
   "outputs": [],
   "source": [
    "search_box = wait_until_present(driver, 10, By.NAME, \"q\")\n",
    "search_box.send_keys(\"Cats\" + Keys.ENTER)"
   ]
  },
  {
   "cell_type": "markdown",
   "metadata": {},
   "source": [
    "## Scraping the Harvard Facebook"
   ]
  },
  {
   "cell_type": "code",
   "execution_count": 6,
   "metadata": {
    "collapsed": true
   },
   "outputs": [],
   "source": [
    "driver.get(\"http://facebook.college.harvard.edu\")"
   ]
  },
  {
   "cell_type": "code",
   "execution_count": 7,
   "metadata": {
    "collapsed": true
   },
   "outputs": [],
   "source": [
    "wait_until_present(driver, 30, By.NAME, \"Search\").click()"
   ]
  },
  {
   "cell_type": "code",
   "execution_count": 8,
   "metadata": {
    "collapsed": true
   },
   "outputs": [],
   "source": [
    "student_names = []\n",
    "for i in range(4):\n",
    "    wait_until_present(driver, 30, By.ID, \"header\")\n",
    "    page_names = driver.find_elements_by_class_name(\"photocaption\")\n",
    "    for name_element in page_names:\n",
    "        student_names.append(name_element.get_attribute(\"innerText\"))\n",
    "    btnNext = find_element_by_text(driver, i + 1)\n",
    "    btnNext.click()"
   ]
  },
  {
   "cell_type": "code",
   "execution_count": 9,
   "metadata": {},
   "outputs": [
    {
     "name": "stdout",
     "output_type": "stream",
     "text": [
      "['Ababio, Amma', 'Abai, Aaron', 'Abdalla Tagelsir Ali, Ilham', 'Abdelhamid, Marwan', 'Abdelrahman, Salma', 'Abdelwahab, Rewan', 'Abdi, Amal', 'Abdilkhay, Adiya', 'Abdulah, Daniel', 'Abdulghani, Mohammad', 'Abdullatif, Aweys', 'Abecasis, Manuel', 'Abel, Tom', 'Abiad, Alia', 'Abiden, Shaik', 'Abney, Christian', 'Abney-McPeek, Helena', 'Abou El Neaj, Youssef', 'Abou-Hussein, Nour', 'Abouaish, Saadeldin', 'Aboussad, Ibtihal', 'Abouzaglo, Amitai', 'Abraham, Daniel', 'Abrams, Natasha', 'Abrantes, Arthur', 'Abrha, Miriam', 'Abu-Suud, Khaled', 'Abugov, Josette', 'Abukar, Ahmed', 'Abuwa, Comfort', 'Acharya, Raahul', 'Acker, Samantha', 'Ackman, Eloise', 'Acosta Robayo, Majo', 'Acosta Worley, Andrew', 'Adams, Paddy', 'Adams, Tyler', 'Adan, Abdisamad', 'Adan, Fatah', 'Adcock, Kelson', 'Adeleye, Sope', 'Adeniji, Tolu', 'Ades, Benjamin', 'Adewuyi, Wally', 'Adeyemi-Idowu, Ikeoluwa', 'Adjagbodjou, Adinawa', 'Adler, Jojo', 'Adler, Jonny', 'Adler, Noelle', 'Adnan, Tatheer', 'Ababio, Amma', 'Abai, Aaron', 'Abdalla Tagelsir Ali, Ilham', 'Abdelhamid, Marwan', 'Abdelrahman, Salma', 'Abdelwahab, Rewan', 'Abdi, Amal', 'Abdilkhay, Adiya', 'Abdulah, Daniel', 'Abdulghani, Mohammad', 'Abdullatif, Aweys', 'Abecasis, Manuel', 'Abel, Tom', 'Abiad, Alia', 'Abiden, Shaik', 'Abney, Christian', 'Abney-McPeek, Helena', 'Abou El Neaj, Youssef', 'Abou-Hussein, Nour', 'Abouaish, Saadeldin', 'Aboussad, Ibtihal', 'Abouzaglo, Amitai', 'Abraham, Daniel', 'Abrams, Natasha', 'Abrantes, Arthur', 'Abrha, Miriam', 'Abu-Suud, Khaled', 'Abugov, Josette', 'Abukar, Ahmed', 'Abuwa, Comfort', 'Acharya, Raahul', 'Acker, Samantha', 'Ackman, Eloise', 'Acosta Robayo, Majo', 'Acosta Worley, Andrew', 'Adams, Paddy', 'Adams, Tyler', 'Adan, Abdisamad', 'Adan, Fatah', 'Adcock, Kelson', 'Adeleye, Sope', 'Adeniji, Tolu', 'Ades, Benjamin', 'Adewuyi, Wally', 'Adeyemi-Idowu, Ikeoluwa', 'Adjagbodjou, Adinawa', 'Adler, Jojo', 'Adler, Jonny', 'Adler, Noelle', 'Adnan, Tatheer', 'Adolphus, Patrick', 'Aduboffour, Mike', 'Adubofour, Akosua', 'Adusei, Kevin', 'Afeyan, Alex', 'Afify, Farah', 'Afridi, Areeb', 'Agajanian, Mary', 'Agarwal, Pulkit', 'Agbafe, Victor', 'Agdashian, Diana', 'Aggarwal, Shivani', 'Agnew, Miranda', 'Agnew, Murphy', 'Agrawal, Arnav', 'Agrawal, Siddhant', 'Agredano, Carlos', 'Aguasvivas, Adelson', 'Aguiar-Lucander, Jordan', 'Aguilar, Marianne', 'Aguwa, Ugo', 'Agyare-May, Rodney', 'Ahmad, Ameerah', 'Ahmad, Taimur', 'Ahmed, Aishah', 'Ahmed, Anisa', 'Ahmed, Mohamed', 'Ahmed, Tahmid', 'Ahmed, Zergham', 'Ahn, Hayoung', 'Ahn, Jane', 'Ahn, Sung', 'Aicardi, Tom', 'Aigberomwan-Isibor, Izogie', 'Aiken, Bryce', 'Aiken, Emily', 'Ajit, Jacob', 'Akaeze, Ashley', 'Akbari, Ariana', 'Akenzua, Kemi', 'Aklog, Daniel', 'Al-Kattan, Hashim', 'Al-Suwaidi, Maha', 'Al-Tariq, Lucaian', 'Alam, Sarah', 'Albaadani, Marwa', 'Albanese, Chiara', 'Alber, Michael', 'Albert, Claire', 'Albert, Luke', 'Albert, Nicholas', 'Albezreh, Jenna', 'Albors-Riera, Carlos', 'Alderete, Matthew', 'Alderete, Stephanie', 'Aldridge, Chase', 'Alemu, Rediet', 'Alerte, Zach', 'Alexander, Benjamin', 'Alexander, Elise', 'Alexander Thomas, Dajon', 'Alfatlawi, Duha', 'Ali, Mahnoor', 'Ali, Mushtaaq', 'Ali, Yishak', 'Ali-Wertheimer, Jacob', 'Alkadir, Hayat', 'Alkhaja, Fahad', 'Allan, James', 'Allen, Alexis', 'Allen, Casey', 'Allen, Jake', 'Allen, Kiley', 'Allen, Larry', 'Allen, Richard', 'Allin, Olivia', 'Allison, Gunnar', 'Almanza, Bella', 'Almeida, Zoe', 'Almgren-Bell, Jimmy', 'Almoussa, Maya', 'Alnasser, Ahmad', 'Alonso-Monsalve, Elba', 'Alpert, Natalie', 'Alphonsus, Miriam', 'Alston, Eliza', 'Alstott, Johanna', 'Altenpohl, Basil', 'Alter, Abigail', 'Altizer, Christopher', 'Alton, Hannah', 'Altshuler, Benjamin', 'Altshuler, Zach', 'Altshuller, Maria', 'Alvarado, Karla', 'Alvarez, Anthony', 'Alvarez, Francisco', 'Alvarez, Nick', 'Amador, Nicholas', 'Ambady, Leena']\n",
      "200\n"
     ]
    }
   ],
   "source": [
    "print(student_names)\n",
    "print(len(student_names))"
   ]
  },
  {
   "cell_type": "code",
   "execution_count": null,
   "metadata": {
    "collapsed": true
   },
   "outputs": [],
   "source": []
  }
 ],
 "metadata": {
  "kernelspec": {
   "display_name": "Python 3",
   "language": "python",
   "name": "python3"
  },
  "language_info": {
   "codemirror_mode": {
    "name": "ipython",
    "version": 3
   },
   "file_extension": ".py",
   "mimetype": "text/x-python",
   "name": "python",
   "nbconvert_exporter": "python",
   "pygments_lexer": "ipython3",
   "version": "3.6.1"
  }
 },
 "nbformat": 4,
 "nbformat_minor": 2
}
