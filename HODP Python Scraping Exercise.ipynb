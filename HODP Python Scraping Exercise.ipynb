{
 "cells": [
  {
   "cell_type": "code",
   "execution_count": null,
   "metadata": {},
   "outputs": [],
   "source": [
    "from urllib.request import Request, urlopen\n",
    "from bs4 import BeautifulSoup "
   ]
  },
  {
   "cell_type": "code",
   "execution_count": null,
   "metadata": {},
   "outputs": [],
   "source": [
    "# This doesn't work, why?\n",
    "url = \"https://medium.com/harvard-open-data-project\"\n",
    "html = urlopen(url)"
   ]
  },
  {
   "cell_type": "code",
   "execution_count": null,
   "metadata": {},
   "outputs": [],
   "source": [
    "# We can disguise our request\n",
    "req = Request(url, headers={'User-Agent': 'Mozilla/5.0'})\n",
    "# gcontext = ssl.SSLContext()\n",
    "html = urlopen(req).read()"
   ]
  },
  {
   "cell_type": "code",
   "execution_count": null,
   "metadata": {},
   "outputs": [],
   "source": [
    "# Create a Beautiful Soup object (lxml is the html parser, don't worry too much about it for now)\n",
    "soup = BeautifulSoup(html, 'lxml')\n",
    "type(soup)"
   ]
  },
  {
   "cell_type": "code",
   "execution_count": null,
   "metadata": {},
   "outputs": [],
   "source": [
    "# Get the title of the webpage\n",
    "title = soup.title\n",
    "print(title)"
   ]
  },
  {
   "cell_type": "code",
   "execution_count": null,
   "metadata": {},
   "outputs": [],
   "source": [
    "# How do we get the text of the webpage?\n",
    "text = \"\"\n",
    "print(text)"
   ]
  },
  {
   "cell_type": "code",
   "execution_count": null,
   "metadata": {},
   "outputs": [],
   "source": [
    "# Let's get the links of all articles\n",
    "all_links = \"\"\n",
    "print(all_links)"
   ]
  },
  {
   "cell_type": "code",
   "execution_count": null,
   "metadata": {},
   "outputs": [],
   "source": [
    "# BeautifulSoup can get attributes for you! (saves you the hassle of using capture groups)\n"
   ]
  },
  {
   "cell_type": "code",
   "execution_count": null,
   "metadata": {},
   "outputs": [],
   "source": [
    "# Let's find and print all the article titles\n",
    "article_titles = \"\"\n",
    "print(article_titles)"
   ]
  },
  {
   "cell_type": "code",
   "execution_count": null,
   "metadata": {},
   "outputs": [],
   "source": [
    "# How can we clean up all this data?\n",
    "\n",
    "cleantext = \"\"\n",
    "print(cleantext)\n",
    "\n",
    "# Not demonstrated here, but BeautifulSoup can also be excellent for storing text stored table style!"
   ]
  },
  {
   "cell_type": "code",
   "execution_count": null,
   "metadata": {},
   "outputs": [],
   "source": [
    "# But what happens if your scraping requires you to click next? \n",
    "# I'd recommend just using workarounds like iterating through urls, for loops, manual\n",
    "\n",
    "# Some other options:\n",
    "\n",
    "# Scrapy (Python framework): \n",
    "# + incredibly fast (up to 20 times faster according to some sites) and is asynchronous, supports xpath and css\n",
    "# - fiddly, not beginner friendly\n",
    "\n",
    "# Selenium: \n",
    "# + very useful if the website you're using uses a lot of Javascript, you need to click buttons/input user input to show content\n",
    "# - can be difficult to install "
   ]
  }
 ],
 "metadata": {
  "kernelspec": {
   "display_name": "Python 3",
   "language": "python",
   "name": "python3"
  },
  "language_info": {
   "codemirror_mode": {
    "name": "ipython",
    "version": 3
   },
   "file_extension": ".py",
   "mimetype": "text/x-python",
   "name": "python",
   "nbconvert_exporter": "python",
   "pygments_lexer": "ipython3",
   "version": "3.7.3"
  }
 },
 "nbformat": 4,
 "nbformat_minor": 2
}
