{
 "cells": [
  {
   "cell_type": "code",
   "execution_count": null,
   "metadata": {},
   "outputs": [],
   "source": [
    "# Python 3\n",
    "from urllib.request import urlopen\n",
    "import re #Regex Library\n",
    "def getHtmlFromUrl(url): \n",
    "    return urlopen(url).read().decode(\"utf-8\")"
   ]
  },
  {
   "cell_type": "code",
   "execution_count": null,
   "metadata": {},
   "outputs": [],
   "source": [
    "hodpHtml = getHtmlFromUrl(\"http://hodp.org/people/\")"
   ]
  },
  {
   "cell_type": "code",
   "execution_count": null,
   "metadata": {},
   "outputs": [],
   "source": [
    "# Scrape the names of all current members of HODP\n",
    "people = re.findall(\"<h4 class=\\\"media-heading\\\" .*>(.+?)<\\/h4>\", hodpHtml)\n",
    "print(people)"
   ]
  },
  {
   "cell_type": "code",
   "execution_count": null,
   "metadata": {},
   "outputs": [],
   "source": [
    "# Additional challenge for those already familiar with Regex: \n",
    "# How would you get all the years the members are in? Now what about their houses?"
   ]
  },
  {
   "cell_type": "code",
   "execution_count": null,
   "metadata": {},
   "outputs": [],
   "source": [
    "# Extra extra challenge for the regex wizard\n",
    "# Imagine you have a sample write-up about Romeo and Juliet (feel free to type something out for your own testcase).\n",
    "# How do you match Romeo and Juliet EXCEPT for when it is between quotes (i.e do not match \"Romeo and Juliet\")\n",
    "\n",
    "# Is this something that's going to be helpful on your quest to conquer data analysis? \n",
    "# Probably not, but it's fun! "
   ]
  }
 ],
 "metadata": {
  "kernelspec": {
   "display_name": "Python 3",
   "language": "python",
   "name": "python3"
  },
  "language_info": {
   "codemirror_mode": {
    "name": "ipython",
    "version": 3
   },
   "file_extension": ".py",
   "mimetype": "text/x-python",
   "name": "python",
   "nbconvert_exporter": "python",
   "pygments_lexer": "ipython3",
   "version": "3.7.3"
  }
 },
 "nbformat": 4,
 "nbformat_minor": 2
}
